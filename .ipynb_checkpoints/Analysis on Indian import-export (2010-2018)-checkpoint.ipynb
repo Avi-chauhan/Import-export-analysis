{
 "cells": [
  {
   "cell_type": "code",
   "execution_count": 14,
   "id": "b2df98a9",
   "metadata": {},
   "outputs": [
    {
     "name": "stdout",
     "output_type": "stream",
     "text": [
      "['admin', 'config', 'local', 'store_data', 'test']\n"
     ]
    }
   ],
   "source": [
    "#importing required libraries :\n",
    "import pymongo\n",
    "import json\n",
    "import pprint\n",
    "\n",
    "#connecting mongo client:\n",
    "client = pymongo.MongoClient('mongodb://localhost:27017')\n",
    "\n",
    "print(client.list_database_names()) #showing all database list of system:\n",
    "\n",
    "#selecting database:\n",
    "db = client['store_data']"
   ]
  },
  {
   "cell_type": "code",
   "execution_count": 18,
   "id": "2f7d440c",
   "metadata": {},
   "outputs": [],
   "source": [
    "#creating collection import:\n",
    "db.create_collection(\"import_data\")\n",
    "\n",
    "#creating collection export:\n",
    "db.create_collection(\"export_data\")"
   ]
  },
  {
   "cell_type": "code",
   "execution_count": 17,
   "id": "e68477ba",
   "metadata": {},
   "outputs": [
    {
     "data": {
      "text/plain": [
       "<pymongo.results.DeleteResult at 0x129a40baa00>"
      ]
     },
     "execution_count": 17,
     "metadata": {},
     "output_type": "execute_result"
    }
   ],
   "source": [
    "db.get_collection(\"import_data\").delete_many({})\n",
    "db.get_collection(\"export_data\").delete_many({})\n",
    "\n",
    "#for deleting all records from collections"
   ]
  },
  {
   "cell_type": "code",
   "execution_count": 9,
   "id": "a868379e",
   "metadata": {},
   "outputs": [
    {
     "data": {
      "text/plain": [
       "<pymongo.results.InsertManyResult at 0x1c2beefca80>"
      ]
     },
     "execution_count": 9,
     "metadata": {},
     "output_type": "execute_result"
    }
   ],
   "source": [
    "#inserting export data into the collection export_data :\n",
    "\n",
    "file=open(\"2018-2010_export.json\")\n",
    "file_export_data = json.load(file)\n",
    "\n",
    "export_data = db.get_collection(\"export_data\")\n",
    "export_data.insert_many(file_export_data)"
   ]
  },
  {
   "cell_type": "code",
   "execution_count": 3,
   "id": "bf577bf6",
   "metadata": {},
   "outputs": [
    {
     "data": {
      "text/plain": [
       "<pymongo.results.InsertManyResult at 0x1c2bd31ca80>"
      ]
     },
     "execution_count": 3,
     "metadata": {},
     "output_type": "execute_result"
    }
   ],
   "source": [
    "#inserting import data into the collection import_data :\n",
    "\n",
    "file=open(\"2018-2010_import.json\")\n",
    "file_import_data = json.load(file)\n",
    "\n",
    "import_data = db.get_collection(\"import_data\")\n",
    "import_data.insert_many(file_import_data)"
   ]
  },
  {
   "cell_type": "code",
   "execution_count": 11,
   "id": "76bcb925",
   "metadata": {},
   "outputs": [
    {
     "name": "stdout",
     "output_type": "stream",
     "text": [
      "import_data_records :  93095\n",
      "export_data_records :  137023\n"
     ]
    }
   ],
   "source": [
    "#total no. of records in both collections :\n",
    "\n",
    "print(\"import_data_records : \",import_data.count_documents({}))\n",
    "print(\"export_data_records : \",export_data.count_documents({}))"
   ]
  },
  {
   "cell_type": "markdown",
   "id": "6f431def",
   "metadata": {},
   "source": [
    "# Analysis on imports of India from 2010 to 2018\n"
   ]
  },
  {
   "cell_type": "code",
   "execution_count": 12,
   "id": "b3d6facd",
   "metadata": {
    "scrolled": true
   },
   "outputs": [
    {
     "name": "stdout",
     "output_type": "stream",
     "text": [
      "{'Commodity': 'PRODUCTS OF ANIMAL ORIGIN, NOT ELSEWHERE SPECIFIED OR INCLUDED.',\n",
      " 'HSCode': 5,\n",
      " '_id': ObjectId('614719bc1e641d326c0fa143'),\n",
      " 'country': 'AFGHANISTAN TIS',\n",
      " 'value(million dollar)': 0,\n",
      " 'year': 2018}\n"
     ]
    }
   ],
   "source": [
    "pprint.pprint(import_data.find_one())\n",
    "pprint.pprint(export_data.find_one())"
   ]
  },
  {
   "cell_type": "code",
   "execution_count": 12,
   "id": "4e26d37b",
   "metadata": {},
   "outputs": [],
   "source": [
    "import pandas as pd\n",
    "df = pd.read_csv(\"2018-2010_export.csv\")\n",
    "df2= pd.read_csv(\"2018-2010_import.csv\")\n",
    "\n",
    "df.fillna(method=\"ffill\",inplace=True)\n",
    "df2.fillna(method =\"ffill\",inplace=True)\n",
    "\n",
    "df2=df2"
   ]
  }
 ],
 "metadata": {
  "kernelspec": {
   "display_name": "Python 3 (ipykernel)",
   "language": "python",
   "name": "python3"
  },
  "language_info": {
   "codemirror_mode": {
    "name": "ipython",
    "version": 3
   },
   "file_extension": ".py",
   "mimetype": "text/x-python",
   "name": "python",
   "nbconvert_exporter": "python",
   "pygments_lexer": "ipython3",
   "version": "3.9.6"
  }
 },
 "nbformat": 4,
 "nbformat_minor": 5
}

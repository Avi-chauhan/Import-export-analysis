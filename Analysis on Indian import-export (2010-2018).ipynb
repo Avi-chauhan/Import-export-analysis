{
 "cells": [
  {
   "cell_type": "code",
   "execution_count": 1,
   "id": "b2df98a9",
   "metadata": {},
   "outputs": [
    {
     "name": "stdout",
     "output_type": "stream",
     "text": [
      "['admin', 'config', 'local', 'store_data', 'test']\n"
     ]
    }
   ],
   "source": [
    "#importing required libraries :\n",
    "import pymongo\n",
    "import json\n",
    "import pprint\n",
    "\n",
    "#connecting mongo client:\n",
    "client = pymongo.MongoClient('mongodb://localhost:27017')\n",
    "\n",
    "print(client.list_database_names()) #showing all database list of system:\n",
    "\n",
    "#selecting database:\n",
    "db = client['store_data']"
   ]
  },
  {
   "cell_type": "code",
   "execution_count": 18,
   "id": "2f7d440c",
   "metadata": {},
   "outputs": [],
   "source": [
    "#creating collection import:\n",
    "db.create_collection(\"import_data\")\n",
    "\n",
    "#creating collection export:\n",
    "db.create_collection(\"export_data\")"
   ]
  },
  {
   "cell_type": "code",
   "execution_count": 3,
   "id": "e68477ba",
   "metadata": {},
   "outputs": [
    {
     "data": {
      "text/plain": [
       "<pymongo.results.DeleteResult at 0x1b349bfd980>"
      ]
     },
     "execution_count": 3,
     "metadata": {},
     "output_type": "execute_result"
    }
   ],
   "source": [
    "# db.get_collection(\"import_data\").delete_many({})\n",
    "# db.get_collection(\"export_data\").delete_many({})\n",
    "\n",
    "#for deleting all records from collections"
   ]
  },
  {
   "cell_type": "code",
   "execution_count": 4,
   "id": "a868379e",
   "metadata": {},
   "outputs": [
    {
     "data": {
      "text/plain": [
       "<pymongo.results.InsertManyResult at 0x1b351bf2c00>"
      ]
     },
     "execution_count": 4,
     "metadata": {},
     "output_type": "execute_result"
    }
   ],
   "source": [
    "#inserting export data into the collection export_data :\n",
    "\n",
    "file=open(\"2018-2010_export.json\")\n",
    "file_export_data = json.load(file)\n",
    "\n",
    "export_data = db.get_collection(\"export_data\")\n",
    "export_data.insert_many(file_export_data)"
   ]
  },
  {
   "cell_type": "code",
   "execution_count": 5,
   "id": "bf577bf6",
   "metadata": {},
   "outputs": [
    {
     "data": {
      "text/plain": [
       "<pymongo.results.InsertManyResult at 0x1b356734900>"
      ]
     },
     "execution_count": 5,
     "metadata": {},
     "output_type": "execute_result"
    }
   ],
   "source": [
    "#inserting import data into the collection import_data :\n",
    "\n",
    "file=open(\"2018-2010_import.json\")\n",
    "file_import_data = json.load(file)\n",
    "\n",
    "import_data = db.get_collection(\"import_data\")\n",
    "import_data.insert_many(file_import_data)"
   ]
  },
  {
   "cell_type": "code",
   "execution_count": 6,
   "id": "76bcb925",
   "metadata": {},
   "outputs": [
    {
     "name": "stdout",
     "output_type": "stream",
     "text": [
      "import_data_records :  93095\n",
      "export_data_records :  137023\n"
     ]
    }
   ],
   "source": [
    "#total no. of records in both collections :\n",
    "\n",
    "print(\"import_data_records : \",import_data.count_documents({}))\n",
    "print(\"export_data_records : \",export_data.count_documents({}))"
   ]
  },
  {
   "cell_type": "code",
   "execution_count": 14,
   "id": "b3d6facd",
   "metadata": {
    "scrolled": true
   },
   "outputs": [
    {
     "name": "stdout",
     "output_type": "stream",
     "text": [
      "Sample import Record : \n",
      "\n",
      "{'Commodity': 'PRODUCTS OF ANIMAL ORIGIN, NOT ELSEWHERE SPECIFIED OR INCLUDED.',\n",
      " 'HSCode': 5,\n",
      " '_id': ObjectId('614c9f6bc7e00f006046202d'),\n",
      " 'country': 'AFGHANISTAN TIS',\n",
      " 'value_million_dollar': 0,\n",
      " 'year': 2018}\n",
      "\n",
      "Sample export Record : \n",
      "\n",
      "{'Commodity': 'MEAT AND EDIBLE MEAT OFFAL.',\n",
      " 'HSCode': 2,\n",
      " '_id': ObjectId('614c9f5ec7e00f00604408ee'),\n",
      " 'country': 'AFGHANISTAN TIS',\n",
      " 'value_million_dollar': 0.18,\n",
      " 'year': 2018}\n"
     ]
    }
   ],
   "source": [
    "#sample record\n",
    "print(\"Sample import Record : \\n\")\n",
    "pprint.pprint(import_data.find_one())\n",
    "print(\"\\nSample export Record : \\n\")\n",
    "pprint.pprint(export_data.find_one())\n",
    "\n"
   ]
  },
  {
   "cell_type": "markdown",
   "id": "8693b9b0",
   "metadata": {},
   "source": [
    "# counting total no.of  commodities and countries (2010-2018)"
   ]
  },
  {
   "cell_type": "code",
   "execution_count": 13,
   "id": "241097c8",
   "metadata": {},
   "outputs": [
    {
     "name": "stdout",
     "output_type": "stream",
     "text": [
      "Total imported commodities :  98\n",
      "Total countries from where we imported :  242\n",
      "\n",
      "Total exported commodities :  98\n",
      "Total countries where we exported :  248\n",
      "\n",
      "\n",
      "Total import cost :  5004202.27  m$\n",
      "average import cost :  53.753716848380684  m$\n",
      "\n",
      "Total export cost :  2652519.47  m$\n",
      "average export cost :  19.358206067594494  m$\n"
     ]
    }
   ],
   "source": [
    "print(\"Total imported commodities : \",len(import_data.distinct(\"Commodity\")))\n",
    "print(\"Total countries from where we imported : \",len(import_data.distinct(\"country\")))\n",
    "\n",
    "print(\"\\nTotal exported commodities : \",len(export_data.distinct(\"Commodity\")))\n",
    "print(\"Total countries where we exported : \",len(export_data.distinct(\"country\")))\n",
    "\n",
    "total_cost_import=import_data.aggregate([ { \n",
    "    \"$group\": { \n",
    "        \"_id\": 'null', \n",
    "        \"total\": { \n",
    "            \"$sum\": \"$value_million_dollar\" \n",
    "        } \n",
    "    } \n",
    "} ] )\n",
    "print()\n",
    "total_cost_export=export_data.aggregate([ { \n",
    "    \"$group\": { \n",
    "        \"_id\": 'null', \n",
    "        \"total\": { \n",
    "            \"$sum\": \"$value_million_dollar\" \n",
    "        } \n",
    "    } \n",
    "} ] )\n",
    "print()\n",
    "for i in total_cost_import:\n",
    "    print(\"Total import cost : \",i['total'],\" m$\")\n",
    "    print(\"average import cost : \",i['total']/import_data.count_documents({}),\" m$\")\n",
    "print()\n",
    "for i in total_cost_export:\n",
    "    print(\"Total export gain : \",i['total'],\" m$\")\n",
    "    print(\"average export gain : \",i['total']/export_data.count_documents({}),\" m$\")"
   ]
  },
  {
   "cell_type": "markdown",
   "id": "510c2534",
   "metadata": {},
   "source": [
    "\n",
    "# Calculating Quantity of each commodity :"
   ]
  },
  {
   "cell_type": "code",
   "execution_count": 31,
   "id": "228a6fca",
   "metadata": {},
   "outputs": [
    {
     "name": "stdout",
     "output_type": "stream",
     "text": [
      " Top-3 most imported commodity :\n",
      "\n",
      "ELECTRICAL MACHINERY AND EQUIPMENT AND PARTS THEREOF; SOUND RECORDERS AND REPRODUCERS, TELEVISION IMAGE AND SOUND RECORDERS AND REPRODUCERS,AND PARTS.  quantity :=>  2174\n",
      "NUCLEAR REACTORS, BOILERS, MACHINERY AND MECHANICAL APPLIANCES; PARTS THEREOF.  quantity :=>  2090\n",
      "PLASTIC AND ARTICLES THEREOF.  quantity :=>  1866\n",
      "\n",
      " Top-3 very less imported commodity : \n",
      "\n",
      "MEAT AND EDIBLE MEAT OFFAL.  quantity :=>  194\n",
      "EXPLOSIVES; PYROTECHNIC PRODUCTS; MATCHES; PYROPHORIC ALLOYS; CERTAIN COMBUSTIBLE PREPARATIONS.  quantity :=>  250\n",
      "VEGETABLE PLAITING MATERIALS; VEGETABLE PRODUCTS NOT ELSEWHERE SPECIFIED OR INCLUDED.  quantity :=>  271\n",
      "\n",
      "Top-3 most exported commodity :\n",
      "\n",
      "ELECTRICAL MACHINERY AND EQUIPMENT AND PARTS THEREOF; SOUND RECORDERS AND REPRODUCERS, TELEVISION IMAGE AND SOUND RECORDERS AND REPRODUCERS,AND PARTS.  quantity :=>  1963\n",
      "NUCLEAR REACTORS, BOILERS, MACHINERY AND MECHANICAL APPLIANCES; PARTS THEREOF.  quantity :=>  1945\n",
      "OPTICAL, PHOTOGRAPHIC CINEMATOGRAPHIC MEASURING, CHECKING PRECISION, MEDICAL OR SURGICAL INST. AND APPARATUS PARTS AND ACCESSORIES THEREOF;  quantity :=>  1917\n",
      "\n",
      " Top-3 very less exported commodity : \n",
      "\n",
      "PULP OF WOOD OR OF OTHER FIBROUS CELLULOSIC MATERIAL; WASTE AND SCRAP OF PAPER OR PAPERBOARD.  quantity :=>  417\n",
      "LIVE ANIMALS.  quantity :=>  457\n",
      "FURSKINS AND ARTIFICIAL FUR, MANUFACTURES THEREOF.  quantity :=>  574\n"
     ]
    }
   ],
   "source": [
    "# import matplotlib.pyplot as plt\n",
    "\n",
    "total_import_each_commodity = import_data.aggregate(\n",
    "    [{\"$group\" : \n",
    "      {\"_id\":\"$Commodity\",\n",
    "       \"Total\":{\"$sum\":1}\n",
    "      }},{ \"$sort\" : { \"Total\" : -1 } }\n",
    "    ])\n",
    "\n",
    "imported_commodity=[]\n",
    "imported_cost=[]\n",
    "\n",
    "l1=0\n",
    "for i in total_import_each_commodity:\n",
    "    imported_commodity.append(i['_id'])\n",
    "    imported_cost.append(i['Total'])\n",
    "    l1+=1\n",
    "    \n",
    "\n",
    "print(\" Top-3 most imported commodity :\\n\") \n",
    "print(imported_commodity[0],\" quantity :=> \",imported_cost[0])\n",
    "print(imported_commodity[1],\" quantity :=> \",imported_cost[1])\n",
    "print(imported_commodity[2],\" quantity :=> \",imported_cost[2])\n",
    "\n",
    "print(\"\\n Top-3 very less imported commodity : \\n\") \n",
    "print(imported_commodity[l1-1],\" quantity :=> \",imported_cost[l1-1])\n",
    "print(imported_commodity[l1-2],\" quantity :=> \",imported_cost[l1-2])\n",
    "print(imported_commodity[l1-3],\" quantity :=> \",imported_cost[l1-3])\n",
    "    \n",
    "# plt.figure(figsize=(50, 10)) \n",
    "# plt.title(\"Import bar graph\")\n",
    "# plt.bar(imported_commodity[0:3], imported_cost[0:3],width=0.1)\n",
    "\n",
    "\n",
    "\n",
    "#export data starts....\n",
    "total_export_each_commodity = export_data.aggregate(\n",
    "    [{\"$group\" : \n",
    "      {\"_id\":\"$Commodity\",\n",
    "       \"Total\":{\"$sum\":1}\n",
    "      }},{ \"$sort\" : { \"Total\" : -1 } }\n",
    "    ])\n",
    "\n",
    "exported_commodity=[]\n",
    "exported_cost=[]\n",
    "\n",
    "\n",
    "l2=0\n",
    "for i in total_export_each_commodity:\n",
    "    exported_commodity.append(i['_id'])\n",
    "    exported_cost.append(i['Total'])\n",
    "    l2+=1\n",
    "\n",
    "print(\"\\nTop-3 most exported commodity :\\n\") \n",
    "print(exported_commodity[0],\" quantity :=> \",exported_cost[0])\n",
    "print(exported_commodity[1],\" quantity :=> \",exported_cost[1])\n",
    "print(exported_commodity[2],\" quantity :=> \",exported_cost[2])\n",
    "\n",
    "print(\"\\n Top-3 very less exported commodity : \\n\") \n",
    "print(exported_commodity[l1-1],\" quantity :=> \",exported_cost[l2-1])\n",
    "print(exported_commodity[l1-2],\" quantity :=> \",exported_cost[l2-2])\n",
    "print(exported_commodity[l1-3],\" quantity :=> \",exported_cost[l2-3])\n",
    "        \n",
    "# plt.figure(figsize=(50, 10)) \n",
    "# plt.title(\"Export bar graph\")\n",
    "# plt.bar(exported_commodity[0:3], exported_cost[0:3],width=0.1)"
   ]
  },
  {
   "cell_type": "markdown",
   "id": "a2d87513",
   "metadata": {},
   "source": [
    "# count year-wise import_export cost  \n"
   ]
  },
  {
   "cell_type": "code",
   "execution_count": 46,
   "id": "687cad0a",
   "metadata": {},
   "outputs": [
    {
     "name": "stdout",
     "output_type": "stream",
     "text": [
      "Import cost year wise : \n",
      "\n",
      "{'_id': 2018, 'value': 1028142.66}\n",
      "{'_id': 2017, 'value': 931148.04}\n",
      "{'_id': 2012, 'value': 490730.07}\n",
      "{'_id': 2011, 'value': 489311.81}\n",
      "{'_id': 2013, 'value': 450192.99}\n",
      "{'_id': 2014, 'value': 448026.63}\n",
      "{'_id': 2015, 'value': 412537.53}\n",
      "{'_id': 2016, 'value': 384350.29}\n",
      "{'_id': 2010, 'value': 369762.25}\n",
      "\n",
      "Export gain year wise : \n",
      "\n",
      "{'_id': 2018, 'value': 330058.64}\n",
      "{'_id': 2013, 'value': 314388.61}\n",
      "{'_id': 2014, 'value': 310321.02}\n",
      "{'_id': 2011, 'value': 305948.28}\n",
      "{'_id': 2017, 'value': 303507.85}\n",
      "{'_id': 2012, 'value': 300384.32}\n",
      "{'_id': 2016, 'value': 275835.27}\n",
      "{'_id': 2015, 'value': 262274.3}\n",
      "{'_id': 2010, 'value': 249801.18}\n",
      "\n",
      "Yearwise export-to-import ratio : \n",
      " \n",
      "2018  ratio :  0.32102416604326095\n",
      "2013  ratio :  0.3376354741615522\n",
      "2014  ratio :  0.6323660174319459\n",
      "2011  ratio :  0.6252624068076347\n",
      "2017  ratio :  0.6741727586651227\n",
      "2012  ratio :  0.6704608607751731\n",
      "2016  ratio :  0.6686307303968199\n",
      "2015  ratio :  0.6823835101048057\n",
      "2010  ratio :  0.6755724252543357\n",
      "\n",
      "Lowest terms of trade was in year :  2018\n",
      "\n",
      "Highest terms of trade was in year :  2015\n"
     ]
    },
    {
     "data": {
      "text/plain": [
       "<BarContainer object of 9 artists>"
      ]
     },
     "execution_count": 46,
     "metadata": {},
     "output_type": "execute_result"
    },
    {
     "data": {
      "image/png": "[encoded data removed]",
      "text/plain": [
       "<Figure size 432x288 with 1 Axes>"
      ]
     },
     "metadata": {
      "needs_background": "light"
     },
     "output_type": "display_data"
    }
   ],
   "source": [
    "import matplotlib.pyplot as plt\n",
    "yearwise_import_cost = import_data.aggregate(\n",
    "    [{\"$group\" : \n",
    "      {\"_id\":\"$year\",\n",
    "       \"value\":{\"$sum\":\"$value_million_dollar\"}\n",
    "      }},{ \"$sort\" : { \"value\" : -1 } }\n",
    "    ])\n",
    "import_years=[]\n",
    "import_cost=[]\n",
    "print(\"Import cost year wise : \\n\")\n",
    "for i in yearwise_import_cost:\n",
    "    import_years.append(i['_id'])\n",
    "    import_cost.append(i['value'])\n",
    "    print(i)\n",
    "\n",
    "#export data starts ...\n",
    "\n",
    "yearwise_export_gain = export_data.aggregate(\n",
    "    [{\"$group\" : \n",
    "      {\"_id\":\"$year\",\n",
    "       \"value\":{\"$sum\":\"$value_million_dollar\"}\n",
    "      }},{ \"$sort\" : { \"value\" : -1 } }\n",
    "    ])\n",
    "\n",
    "export_years=[]\n",
    "export_gain=[]\n",
    "\n",
    "print(\"\\nExport gain year wise : \\n\")\n",
    "for i in yearwise_export_gain:\n",
    "    export_years.append(i['_id'])\n",
    "    export_gain.append(i['value'])\n",
    "    print(i)\n",
    "    \n",
    "\n",
    "\n",
    "print(\"\\nYearwise export-to-import ratio : \\n \")\n",
    "export_import_ratio = dict()\n",
    "for i in range(len(export_years)):\n",
    "    export_import_ratio[export_years[i]]=(export_gain[i]/import_cost[i])\n",
    "    print(export_years[i],\" ratio : \",export_import_ratio[export_years[i]])\n",
    "    \n",
    "key_max = max(export_import_ratio.keys(), key=(lambda k: export_import_ratio[k]))\n",
    "key_min = min(export_import_ratio.keys(), key=(lambda k: export_import_ratio[k]))\n",
    "\n",
    "print(\"\\nLowest terms of trade was in year : \",key_min)    \n",
    "print(\"\\nHighest terms of trade was in year : \",key_max)\n",
    "\n",
    "plt.bar(import_years, import_cost)\n",
    "plt.bar(export_years, export_gain)"
   ]
  },
  {
   "cell_type": "markdown",
   "id": "44622d58",
   "metadata": {},
   "source": [
    "# calculate country-wise import_export cost  "
   ]
  },
  {
   "cell_type": "code",
   "execution_count": 64,
   "id": "c5413776",
   "metadata": {},
   "outputs": [
    {
     "name": "stdout",
     "output_type": "stream",
     "text": [
      "Top-3 countries from where we Import : \n",
      "\n",
      "Country :  CHINA P RP , value :  678877.15\n",
      "Country :  U ARAB EMTS , value :  307810.15\n",
      "Country :  SAUDI ARAB , value :  292104.09\n",
      "\n",
      "Top-3 countries where we export : \n",
      "\n",
      "Country :  U S A , value :  360609.57\n",
      "Country :  U ARAB EMTS , value :  289374.88\n",
      "Country :  CHINA P RP , value :  121806.0\n"
     ]
    },
    {
     "data": {
      "text/plain": [
       "<BarContainer object of 3 artists>"
      ]
     },
     "execution_count": 64,
     "metadata": {},
     "output_type": "execute_result"
    },
    {
     "data": {
      "image/png": "[encoded data removed]",
      "text/plain": [
       "<Figure size 432x288 with 1 Axes>"
      ]
     },
     "metadata": {
      "needs_background": "light"
     },
     "output_type": "display_data"
    }
   ],
   "source": [
    "import matplotlib.pyplot as plt\n",
    "countrywise_import_cost = import_data.aggregate(\n",
    "    [{\"$group\" : \n",
    "      {\"_id\":\"$country\",\n",
    "       \"value\":{\"$sum\":\"$value_million_dollar\"}\n",
    "      }},{ \"$sort\" : { \"value\" : -1 } }\n",
    "    ])\n",
    "\n",
    "countries_import=[]\n",
    "cost2_import=[]\n",
    "\n",
    "print(\"Top-3 countries from where we Import : \\n\")\n",
    "for i in countrywise_import_cost:\n",
    "    countries_import.append(i['_id'])\n",
    "    cost2_import.append(i['value'])\n",
    "    if len(cost2_import)<=3:\n",
    "        print(\"Country : \",i['_id'],\", value : \",i['value'])\n",
    "  \n",
    "\n",
    "countrywise_export_gain = export_data.aggregate(\n",
    "    [{\"$group\" : \n",
    "      {\"_id\":\"$country\",\n",
    "       \"value\":{\"$sum\":\"$value_million_dollar\"}\n",
    "      }},{ \"$sort\" : { \"value\" : -1 } }\n",
    "    ])\n",
    "\n",
    "countries_export=[]\n",
    "cost2_export=[]\n",
    "\n",
    "print(\"\\nTop-3 countries where we export : \\n\")\n",
    "for i in countrywise_export_gain:\n",
    "    countries_export.append(i['_id'])\n",
    "    cost2_export.append(i['value'])\n",
    "    if len(cost2_export)<=3:\n",
    "        print(\"Country : \",i['_id'],\", value : \",i['value'])\n",
    "    \n",
    "   \n",
    "plt.bar(countries_import[0:3], cost2_import[0:3], width=0.3)\n",
    "plt.bar(countries_export[0:3], cost2_export[0:3], width=0.3)"
   ]
  },
  {
   "cell_type": "markdown",
   "id": "8e98ac53",
   "metadata": {},
   "source": [
    "# counting top-3 most expansive import"
   ]
  },
  {
   "cell_type": "code",
   "execution_count": 92,
   "id": "c9166e50",
   "metadata": {},
   "outputs": [
    {
     "name": "stdout",
     "output_type": "stream",
     "text": [
      "Commodity :  MINERAL FUELS, MINERAL OILS AND PRODUCTS OF THEIR DISTILLATION; BITUMINOUS SUBSTANCES; MINERAL WAXES. , value :   1618556.68\n",
      "Commodity :  NATURAL OR CULTURED PEARLS,PRECIOUS OR SEMIPRECIOUS STONES,PRE.METALS,CLAD WITH PRE.METAL AND ARTCLS THEREOF;IMIT.JEWLRY;COIN. , value :   770826.15\n",
      "Commodity :  ELECTRICAL MACHINERY AND EQUIPMENT AND PARTS THEREOF; SOUND RECORDERS AND REPRODUCERS, TELEVISION IMAGE AND SOUND RECORDERS AND REPRODUCERS,AND PARTS. , value :   427570.66\n"
     ]
    },
    {
     "data": {
      "text/plain": [
       "<BarContainer object of 3 artists>"
      ]
     },
     "execution_count": 92,
     "metadata": {},
     "output_type": "execute_result"
    },
    {
     "data": {
      "image/png": "[encoded data removed]",
      "text/plain": [
       "<Figure size 3600x720 with 1 Axes>"
      ]
     },
     "metadata": {
      "needs_background": "light"
     },
     "output_type": "display_data"
    }
   ],
   "source": [
    "commoditywise_cost = import_data.aggregate(\n",
    "    [{\"$group\" : \n",
    "      {\"_id\":\"$Commodity\",\n",
    "       \"value\":{\"$sum\":\"$value_million_dollar\"}\n",
    "      }},{ \"$sort\" : { \"value\" : -1 } }\n",
    "    ])\n",
    "commodities=[]\n",
    "cost3=[]\n",
    "for i in commoditywise_cost:\n",
    "    commodities.append(i['_id'])\n",
    "    cost3.append(i['value'])\n",
    "    if len(cost3)<=3:\n",
    "        print(\"Commodity : \",i['_id'], \", value :  \",i['value'])\n",
    "    \n",
    "plt.figure(figsize=(50, 10))    \n",
    "plt.bar(commodities[0:3], cost3[0:3], width=0.1)"
   ]
  },
  {
   "cell_type": "markdown",
   "id": "58698ac9",
   "metadata": {},
   "source": [
    "# counting top-3 most profitable exports"
   ]
  },
  {
   "cell_type": "code",
   "execution_count": 68,
   "id": "1542fc1b",
   "metadata": {},
   "outputs": [
    {
     "name": "stdout",
     "output_type": "stream",
     "text": [
      "Commodity :  MINERAL FUELS, MINERAL OILS AND PRODUCTS OF THEIR DISTILLATION; BITUMINOUS SUBSTANCES; MINERAL WAXES. , value :  434594.81\n",
      "Commodity :  NATURAL OR CULTURED PEARLS,PRECIOUS OR SEMIPRECIOUS STONES,PRE.METALS,CLAD WITH PRE.METAL AND ARTCLS THEREOF;IMIT.JEWLRY;COIN. , value :  383341.86\n",
      "Commodity :  VEHICLES OTHER THAN RAILWAY OR TRAMWAY ROLLING STOCK, AND PARTS AND ACCESSORIES THEREOF. , value :  124502.75\n"
     ]
    },
    {
     "data": {
      "text/plain": [
       "<BarContainer object of 3 artists>"
      ]
     },
     "execution_count": 68,
     "metadata": {},
     "output_type": "execute_result"
    },
    {
     "data": {
      "image/png": "[encoded data removed]",
      "text/plain": [
       "<Figure size 3600x720 with 1 Axes>"
      ]
     },
     "metadata": {
      "needs_background": "light"
     },
     "output_type": "display_data"
    }
   ],
   "source": [
    "commoditywise_export_cost = export_data.aggregate(\n",
    "    [{\"$group\" : \n",
    "      {\"_id\":\"$Commodity\",\n",
    "       \"value\":{\"$sum\":\"$value_million_dollar\"}\n",
    "      }},{ \"$sort\" : { \"value\" : -1 } }\n",
    "    ])\n",
    "commodities_export=[]\n",
    "cost3_export=[]\n",
    "for i in commoditywise_export_cost:\n",
    "    commodities_export.append(i['_id'])\n",
    "    cost3_export.append(i['value'])\n",
    "    if len(cost3_export)<=3:\n",
    "        print(\"Commodity : \",i['_id'],\", value : \",i['value'])\n",
    "    \n",
    "plt.figure(figsize=(50, 10))  \n",
    "plt.bar(commodities_export[0:3], cost3_export[0:3], width=0.1)"
   ]
  },
  {
   "cell_type": "markdown",
   "id": "57713c6d",
   "metadata": {},
   "source": [
    "# Analyzing Year 2015 as it has highest terms of trade among 8 years"
   ]
  },
  {
   "cell_type": "code",
   "execution_count": null,
   "id": "0c4f3726",
   "metadata": {},
   "outputs": [],
   "source": []
  }
 ],
 "metadata": {
  "kernelspec": {
   "display_name": "Python 3 (ipykernel)",
   "language": "python",
   "name": "python3"
  },
  "language_info": {
   "codemirror_mode": {
    "name": "ipython",
    "version": 3
   },
   "file_extension": ".py",
   "mimetype": "text/x-python",
   "name": "python",
   "nbconvert_exporter": "python",
   "pygments_lexer": "ipython3",
   "version": "3.9.6"
  }
 },
 "nbformat": 4,
 "nbformat_minor": 5
}
